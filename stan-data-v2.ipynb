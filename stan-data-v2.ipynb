{
 "cells": [
  {
   "cell_type": "markdown",
   "metadata": {},
   "source": [
    "# Data Simulation using STAN\n",
    "## Cole Polychronis\n",
    "## Last Update: Mar 28, 2019"
   ]
  },
  {
   "cell_type": "markdown",
   "metadata": {},
   "source": [
    "## (1) Generate Fake Data"
   ]
  },
  {
   "cell_type": "code",
   "execution_count": 60,
   "metadata": {},
   "outputs": [],
   "source": [
    "# Import Libraries\n",
    "import pystan\n",
    "import matplotlib.pyplot as plt\n",
    "import seaborn as sns\n",
    "import pandas as pd\n",
    "import numpy as np\n",
    "from collections import Counter\n",
    "from sklearn.preprocessing import CategoricalEncoder\n",
    "import pystan\n",
    "import math\n",
    "import json"
   ]
  },
  {
   "cell_type": "code",
   "execution_count": 2,
   "metadata": {},
   "outputs": [],
   "source": [
    "# Function to create a set of unique names from the name List\n",
    "def select_names(num_needed):\n",
    "    name_file = open(\"names.txt\", \"r\")\n",
    "    names = name_file.readlines()\n",
    "    num_of_names = len(names)\n",
    "    \n",
    "    np.random.seed(1997)\n",
    "    first_indices = np.random.choice(num_of_names, num_needed, replace=False)\n",
    "    np.random.seed(2002)\n",
    "    second_indices = np.random.choice(num_of_names, num_needed, replace=False)\n",
    "    \n",
    "    names = [(names[a][:-1],names[b][:-1]) for a,b in zip(first_indices, second_indices)]\n",
    "    return names"
   ]
  },
  {
   "cell_type": "code",
   "execution_count": 3,
   "metadata": {},
   "outputs": [],
   "source": [
    "# Nested dictionary structure to keep track of metadata for classess and assignments\n",
    "# Contains mean and standard deviation for each assignment, as well as mean number and std dev of number of assignments logged\n",
    "classes = {\n",
    "    \"Mathematics\": {\n",
    "        \"Homework\":{\n",
    "            \"mu\": 60,\n",
    "            \"sd\": 10,\n",
    "            \"num_avg\": 15,\n",
    "            \"num_sd\": 5\n",
    "        },\n",
    "        \"Online_Activity\":{\n",
    "            \"mu\": 90,\n",
    "            \"sd\": 15,\n",
    "            \"num_avg\": 10,\n",
    "            \"num_sd\": 5\n",
    "        },\n",
    "        \"Reading\":{\n",
    "            \"mu\": 30,\n",
    "            \"sd\": 5,\n",
    "            \"num_avg\": 15,\n",
    "            \"num_sd\": 5\n",
    "        },\n",
    "        \"Takehome_Test\":{\n",
    "            \"mu\": 180,\n",
    "            \"sd\": 30,\n",
    "            \"num_avg\": 2,\n",
    "            \"num_sd\": 1\n",
    "        },\n",
    "        \"Study_Guide\":{\n",
    "            \"mu\": 120,\n",
    "            \"sd\": 20,\n",
    "            \"num_avg\": 2,\n",
    "            \"num_sd\": 1\n",
    "        },\n",
    "        \"Presentation\":{\n",
    "            \"mu\": 150,\n",
    "            \"sd\": 20,\n",
    "            \"num_avg\": 1,\n",
    "            \"num_sd\": 1\n",
    "        }   \n",
    "    },\n",
    "    \"Language_&_Literature\": {\n",
    "         \"Reading\":{\n",
    "            \"mu\": 60,\n",
    "            \"sd\": 15,\n",
    "            \"num_avg\": 15,\n",
    "            \"num_sd\": 10\n",
    "        },\n",
    "        \"Writing_Prompt\":{\n",
    "            \"mu\": 120,\n",
    "            \"sd\": 30,\n",
    "            \"num_avg\": 8,\n",
    "            \"num_sd\": 3\n",
    "        },\n",
    "        \"Essay\":{\n",
    "            \"mu\": 210,\n",
    "            \"sd\": 40,\n",
    "            \"num_avg\": 3,\n",
    "            \"num_sd\": 2\n",
    "        },\n",
    "        \"Presentation\":{\n",
    "            \"mu\": 90,\n",
    "            \"sd\": 10,\n",
    "            \"num_avg\": 1,\n",
    "            \"num_sd\": 1\n",
    "        }  \n",
    "    },\n",
    "    \"Science\": {\n",
    "         \"Homework\":{\n",
    "            \"mu\": 90,\n",
    "            \"sd\": 20,\n",
    "            \"num_avg\": 15,\n",
    "            \"num_sd\": 5\n",
    "        },\n",
    "        \"Lab\":{\n",
    "            \"mu\": 90,\n",
    "            \"sd\": 20,\n",
    "            \"num_avg\": 10,\n",
    "            \"num_sd\": 2\n",
    "        },\n",
    "        \"Reading\":{\n",
    "            \"mu\": 45,\n",
    "            \"sd\": 10,\n",
    "            \"num_avg\": 15,\n",
    "            \"num_sd\": 5\n",
    "        },\n",
    "        \"Takehome_Test\":{\n",
    "            \"mu\": 120,\n",
    "            \"sd\": 20,\n",
    "            \"num_avg\": 2,\n",
    "            \"num_sd\": 1\n",
    "        },\n",
    "        \"Study_Guide\":{\n",
    "            \"mu\": 120,\n",
    "            \"sd\": 30,\n",
    "            \"num_avg\": 2,\n",
    "            \"num_sd\": 1\n",
    "        },\n",
    "        \"Presentation\":{\n",
    "            \"mu\": 120,\n",
    "            \"sd\": 20,\n",
    "            \"num_avg\": 1,\n",
    "            \"num_sd\": 1\n",
    "        }\n",
    "    },\n",
    "    \"Foreign_Language\":{\n",
    "        \"Reading\":{\n",
    "            \"mu\": 75,\n",
    "            \"sd\": 15,\n",
    "            \"num_avg\": 15,\n",
    "            \"num_sd\": 10\n",
    "        },\n",
    "        \"Translation Activity\":{\n",
    "            \"mu\": 45,\n",
    "            \"sd\": 10,\n",
    "            \"num_avg\": 5,\n",
    "            \"num_sd\": 3\n",
    "        },\n",
    "        \"Homework\":{\n",
    "            \"mu\": 120,\n",
    "            \"sd\": 15,\n",
    "            \"num_avg\": 15,\n",
    "            \"num_sd\": 1\n",
    "        },\n",
    "        \"Interview\":{\n",
    "            \"mu\": 30,\n",
    "            \"sd\": 5,\n",
    "            \"num_avg\": 5,\n",
    "            \"num_sd\": 1\n",
    "        }\n",
    "    },\n",
    "    \"Social_Studies\":{\n",
    "        \"Homework\":{\n",
    "            \"mu\": 75,\n",
    "            \"sd\": 15,\n",
    "            \"num_avg\": 15,\n",
    "            \"num_sd\": 10\n",
    "        },\n",
    "        \"Reading\":{\n",
    "            \"mu\": 45,\n",
    "            \"sd\": 5,\n",
    "            \"num_avg\": 15,\n",
    "            \"num_sd\": 10\n",
    "        },\n",
    "        \"Essay\":{\n",
    "            \"mu\": 180,\n",
    "            \"sd\": 30,\n",
    "            \"num_avg\": 3,\n",
    "            \"num_sd\": 2\n",
    "        },\n",
    "        \"Presentation\":{\n",
    "            \"mu\": 120,\n",
    "            \"sd\": 15,\n",
    "            \"num_avg\": 1,\n",
    "            \"num_sd\": 1\n",
    "        }\n",
    "    }\n",
    "}"
   ]
  },
  {
   "cell_type": "code",
   "execution_count": 4,
   "metadata": {},
   "outputs": [],
   "source": [
    "# Number of students we will generate data for\n",
    "n = 20"
   ]
  },
  {
   "cell_type": "code",
   "execution_count": 5,
   "metadata": {},
   "outputs": [],
   "source": [
    "# generates a random subset of classes that student is taking, \n",
    "# generates a distribution for the student pulled from the hyperpriors (classes dictionary)\n",
    "np.random.seed(1997)\n",
    "student_records = []\n",
    "\n",
    "for student in select_names(n):\n",
    "    for class_name in classes.keys():\n",
    "        \n",
    "        # selects random subset of classes student has taken\n",
    "        taken = np.random.binomial(1, 0.9, len(classes[class_name].keys())) \n",
    "         \n",
    "        for ind, assignment in enumerate(classes[class_name]):\n",
    "            # if the class has been taken by the student (determined randomly)\n",
    "            if taken[ind] == 1:\n",
    "                assign = classes[class_name][assignment]\n",
    "                num_entered = int(np.random.normal(assign[\"num_avg\"], assign[\"num_sd\"], 1))\n",
    "                # checks if estimated value is negative, converts it to 0\n",
    "                num_entered = num_entered if num_entered > 0 else 0 \n",
    "                \n",
    "                # generate distribution specific to student,\n",
    "                # by pulling from hyperpriors to generate own normal model \n",
    "                mu = np.random.normal(assign[\"mu\"], assign[\"sd\"], 1)\n",
    "                sd = np.random.exponential(assign[\"sd\"], 1)\n",
    "                \n",
    "                student_entered_times = np.random.normal(mu, sd, num_entered)\n",
    "                if len(student_entered_times) != 0:\n",
    "                    for entry in student_entered_times:\n",
    "                        record = []\n",
    "                        record.append(student[0])\n",
    "                        record.append(student[1])\n",
    "                        record.append(class_name)\n",
    "                        record.append(assignment)\n",
    "                        record.append(abs(entry))\n",
    "                        student_records.append(record)"
   ]
  },
  {
   "cell_type": "code",
   "execution_count": 6,
   "metadata": {},
   "outputs": [],
   "source": [
    "# convert above 2d array into dataframe\n",
    "df = pd.DataFrame(student_records)"
   ]
  },
  {
   "cell_type": "code",
   "execution_count": 7,
   "metadata": {},
   "outputs": [],
   "source": [
    "# create the harder-easier categorical var\n",
    "np.random.seed(1997)\n",
    "hard_easy = np.random.choice(5, len(df), p=[0.1, 0.25, 0.3, 0.25, 0.1]).tolist()\n",
    "hard_easy = [num+1 for num in hard_easy]\n",
    "\n",
    "df[5] = hard_easy"
   ]
  },
  {
   "cell_type": "code",
   "execution_count": 8,
   "metadata": {},
   "outputs": [],
   "source": [
    "# create the confidence categorical var\n",
    "np.random.seed(3220)\n",
    "confidence = np.random.choice(5, len(df), p=[0.1, 0.25, 0.3, 0.25, 0.1]).tolist()\n",
    "confidence = [num+1 for num in confidence]\n",
    "\n",
    "df[6] = confidence"
   ]
  },
  {
   "cell_type": "code",
   "execution_count": 9,
   "metadata": {},
   "outputs": [],
   "source": [
    "# create space for actual time taken (response var)\n",
    "df[7] = [0 for i in range(0, len(df))]"
   ]
  },
  {
   "cell_type": "code",
   "execution_count": 10,
   "metadata": {},
   "outputs": [],
   "source": [
    "# add column names to dataframe\n",
    "df.columns = ['first_name', 'last_name', 'class_type', 'assign_type', 'user_time_est', 'hard_easy', 'confidence', 'actual_time']"
   ]
  },
  {
   "cell_type": "code",
   "execution_count": 11,
   "metadata": {},
   "outputs": [],
   "source": [
    "# break categorical variables into dummy variables\n",
    "df = pd.get_dummies(df, columns=[\"class_type\", \"assign_type\", \"hard_easy\", \"confidence\"])"
   ]
  },
  {
   "cell_type": "code",
   "execution_count": 12,
   "metadata": {},
   "outputs": [
    {
     "name": "stdout",
     "output_type": "stream",
     "text": [
      "user_time_est: 1.05\n",
      "class_type_Foreign_Language: 10\n",
      "class_type_Language_&_Literature: -7.5\n",
      "class_type_Mathematics: 25\n",
      "class_type_Science: 15\n",
      "class_type_Social_Studies: -12\n",
      "assign_type_Essay: 30\n",
      "assign_type_Homework: 0.5\n",
      "assign_type_Interview: -5\n",
      "assign_type_Lab: 10\n",
      "assign_type_Online_Activity: 12\n",
      "assign_type_Presentation: 20\n",
      "assign_type_Reading: -5\n",
      "assign_type_Study_Guide: 15\n",
      "assign_type_Takehome_Test: 27\n",
      "assign_type_Translation Activity: 6\n",
      "assign_type_Writing_Prompt: 4.5\n",
      "hard_easy_1: -10\n",
      "hard_easy_2: -5\n",
      "hard_easy_3: 0\n",
      "hard_easy_4: 8\n",
      "hard_easy_5: 45\n",
      "confidence_1: 12\n",
      "confidence_2: 3\n",
      "confidence_3: 0.05\n",
      "confidence_4: -4\n",
      "confidence_5: -30\n"
     ]
    }
   ],
   "source": [
    "# dictionary to contain actual population parameters\n",
    "# ===================================================\n",
    "# these are what the STAN model will try to estimate\n",
    "# ===================================================\n",
    "\n",
    "param_vals = [1.05, -100, 10, -7.5, 25, 15, -12, 30, 0.5, -5, 10, 12, 20, -5, 15, 27, 6, 4.5, -10, -5, 0, 8, 45, 12, 3, 0.05, -4, -30]\n",
    "\n",
    "edu_params = {}\n",
    "for index, param in enumerate(df.columns[2:]):\n",
    "    if param != 'actual_time':\n",
    "        edu_params[param]= param_vals[index]\n",
    "        print param + ': ' + str(param_vals[index])"
   ]
  },
  {
   "cell_type": "code",
   "execution_count": 13,
   "metadata": {},
   "outputs": [],
   "source": [
    "# create response variables - the \"actual\" amount of time it takes to complete an given assignment\n",
    "response = np.zeros(len(df))\n",
    "for key in edu_params.keys():\n",
    "    tmp = [val*edu_params[key] for val in df[key]]\n",
    "    response += tmp\n",
    "response = np.absolute(response) #convert negative numbers to 0\n",
    "df['actual_time'] = response"
   ]
  },
  {
   "cell_type": "code",
   "execution_count": 14,
   "metadata": {},
   "outputs": [],
   "source": [
    "# introduce natural variability\n",
    "sigma = 10\n",
    "df['actual_time'] = np.random.normal(df['actual_time'], sigma)"
   ]
  },
  {
   "cell_type": "code",
   "execution_count": 15,
   "metadata": {},
   "outputs": [
    {
     "data": {
      "text/html": [
       "<div>\n",
       "<style scoped>\n",
       "    .dataframe tbody tr th:only-of-type {\n",
       "        vertical-align: middle;\n",
       "    }\n",
       "\n",
       "    .dataframe tbody tr th {\n",
       "        vertical-align: top;\n",
       "    }\n",
       "\n",
       "    .dataframe thead th {\n",
       "        text-align: right;\n",
       "    }\n",
       "</style>\n",
       "<table border=\"1\" class=\"dataframe\">\n",
       "  <thead>\n",
       "    <tr style=\"text-align: right;\">\n",
       "      <th></th>\n",
       "      <th>first_name</th>\n",
       "      <th>last_name</th>\n",
       "      <th>user_time_est</th>\n",
       "      <th>actual_time</th>\n",
       "      <th>class_type_Foreign_Language</th>\n",
       "      <th>class_type_Language_&amp;_Literature</th>\n",
       "      <th>class_type_Mathematics</th>\n",
       "      <th>class_type_Science</th>\n",
       "      <th>class_type_Social_Studies</th>\n",
       "      <th>assign_type_Essay</th>\n",
       "      <th>...</th>\n",
       "      <th>hard_easy_1</th>\n",
       "      <th>hard_easy_2</th>\n",
       "      <th>hard_easy_3</th>\n",
       "      <th>hard_easy_4</th>\n",
       "      <th>hard_easy_5</th>\n",
       "      <th>confidence_1</th>\n",
       "      <th>confidence_2</th>\n",
       "      <th>confidence_3</th>\n",
       "      <th>confidence_4</th>\n",
       "      <th>confidence_5</th>\n",
       "    </tr>\n",
       "  </thead>\n",
       "  <tbody>\n",
       "    <tr>\n",
       "      <th>0</th>\n",
       "      <td>Fatoumatta</td>\n",
       "      <td>Valdemir</td>\n",
       "      <td>214.530091</td>\n",
       "      <td>254.309126</td>\n",
       "      <td>0</td>\n",
       "      <td>1</td>\n",
       "      <td>0</td>\n",
       "      <td>0</td>\n",
       "      <td>0</td>\n",
       "      <td>1</td>\n",
       "      <td>...</td>\n",
       "      <td>0</td>\n",
       "      <td>0</td>\n",
       "      <td>0</td>\n",
       "      <td>1</td>\n",
       "      <td>0</td>\n",
       "      <td>0</td>\n",
       "      <td>0</td>\n",
       "      <td>1</td>\n",
       "      <td>0</td>\n",
       "      <td>0</td>\n",
       "    </tr>\n",
       "    <tr>\n",
       "      <th>1</th>\n",
       "      <td>Fatoumatta</td>\n",
       "      <td>Valdemir</td>\n",
       "      <td>212.106636</td>\n",
       "      <td>249.134827</td>\n",
       "      <td>0</td>\n",
       "      <td>1</td>\n",
       "      <td>0</td>\n",
       "      <td>0</td>\n",
       "      <td>0</td>\n",
       "      <td>1</td>\n",
       "      <td>...</td>\n",
       "      <td>1</td>\n",
       "      <td>0</td>\n",
       "      <td>0</td>\n",
       "      <td>0</td>\n",
       "      <td>0</td>\n",
       "      <td>1</td>\n",
       "      <td>0</td>\n",
       "      <td>0</td>\n",
       "      <td>0</td>\n",
       "      <td>0</td>\n",
       "    </tr>\n",
       "    <tr>\n",
       "      <th>2</th>\n",
       "      <td>Fatoumatta</td>\n",
       "      <td>Valdemir</td>\n",
       "      <td>214.767269</td>\n",
       "      <td>270.041819</td>\n",
       "      <td>0</td>\n",
       "      <td>1</td>\n",
       "      <td>0</td>\n",
       "      <td>0</td>\n",
       "      <td>0</td>\n",
       "      <td>1</td>\n",
       "      <td>...</td>\n",
       "      <td>0</td>\n",
       "      <td>0</td>\n",
       "      <td>1</td>\n",
       "      <td>0</td>\n",
       "      <td>0</td>\n",
       "      <td>0</td>\n",
       "      <td>1</td>\n",
       "      <td>0</td>\n",
       "      <td>0</td>\n",
       "      <td>0</td>\n",
       "    </tr>\n",
       "    <tr>\n",
       "      <th>3</th>\n",
       "      <td>Fatoumatta</td>\n",
       "      <td>Valdemir</td>\n",
       "      <td>65.634517</td>\n",
       "      <td>85.859798</td>\n",
       "      <td>0</td>\n",
       "      <td>1</td>\n",
       "      <td>0</td>\n",
       "      <td>0</td>\n",
       "      <td>0</td>\n",
       "      <td>0</td>\n",
       "      <td>...</td>\n",
       "      <td>0</td>\n",
       "      <td>0</td>\n",
       "      <td>0</td>\n",
       "      <td>0</td>\n",
       "      <td>1</td>\n",
       "      <td>0</td>\n",
       "      <td>0</td>\n",
       "      <td>0</td>\n",
       "      <td>1</td>\n",
       "      <td>0</td>\n",
       "    </tr>\n",
       "    <tr>\n",
       "      <th>4</th>\n",
       "      <td>Fatoumatta</td>\n",
       "      <td>Valdemir</td>\n",
       "      <td>36.462795</td>\n",
       "      <td>60.846007</td>\n",
       "      <td>0</td>\n",
       "      <td>1</td>\n",
       "      <td>0</td>\n",
       "      <td>0</td>\n",
       "      <td>0</td>\n",
       "      <td>0</td>\n",
       "      <td>...</td>\n",
       "      <td>0</td>\n",
       "      <td>0</td>\n",
       "      <td>0</td>\n",
       "      <td>0</td>\n",
       "      <td>1</td>\n",
       "      <td>0</td>\n",
       "      <td>0</td>\n",
       "      <td>0</td>\n",
       "      <td>1</td>\n",
       "      <td>0</td>\n",
       "    </tr>\n",
       "  </tbody>\n",
       "</table>\n",
       "<p>5 rows × 30 columns</p>\n",
       "</div>"
      ],
      "text/plain": [
       "   first_name last_name  user_time_est  actual_time  \\\n",
       "0  Fatoumatta  Valdemir     214.530091   254.309126   \n",
       "1  Fatoumatta  Valdemir     212.106636   249.134827   \n",
       "2  Fatoumatta  Valdemir     214.767269   270.041819   \n",
       "3  Fatoumatta  Valdemir      65.634517    85.859798   \n",
       "4  Fatoumatta  Valdemir      36.462795    60.846007   \n",
       "\n",
       "   class_type_Foreign_Language  class_type_Language_&_Literature  \\\n",
       "0                            0                                 1   \n",
       "1                            0                                 1   \n",
       "2                            0                                 1   \n",
       "3                            0                                 1   \n",
       "4                            0                                 1   \n",
       "\n",
       "   class_type_Mathematics  class_type_Science  class_type_Social_Studies  \\\n",
       "0                       0                   0                          0   \n",
       "1                       0                   0                          0   \n",
       "2                       0                   0                          0   \n",
       "3                       0                   0                          0   \n",
       "4                       0                   0                          0   \n",
       "\n",
       "   assign_type_Essay      ...       hard_easy_1  hard_easy_2  hard_easy_3  \\\n",
       "0                  1      ...                 0            0            0   \n",
       "1                  1      ...                 1            0            0   \n",
       "2                  1      ...                 0            0            1   \n",
       "3                  0      ...                 0            0            0   \n",
       "4                  0      ...                 0            0            0   \n",
       "\n",
       "   hard_easy_4  hard_easy_5  confidence_1  confidence_2  confidence_3  \\\n",
       "0            1            0             0             0             1   \n",
       "1            0            0             1             0             0   \n",
       "2            0            0             0             1             0   \n",
       "3            0            1             0             0             0   \n",
       "4            0            1             0             0             0   \n",
       "\n",
       "   confidence_4  confidence_5  \n",
       "0             0             0  \n",
       "1             0             0  \n",
       "2             0             0  \n",
       "3             1             0  \n",
       "4             1             0  \n",
       "\n",
       "[5 rows x 30 columns]"
      ]
     },
     "execution_count": 15,
     "metadata": {},
     "output_type": "execute_result"
    }
   ],
   "source": [
    "# admire our work of creating a df\n",
    "df.head()"
   ]
  },
  {
   "cell_type": "markdown",
   "metadata": {},
   "source": [
    "## (2) Visualize Data & Perform Necessary Transformations"
   ]
  },
  {
   "cell_type": "code",
   "execution_count": 16,
   "metadata": {},
   "outputs": [
    {
     "data": {
      "image/png": "[encoded data removed]",
      "text/plain": [
       "<Figure size 432x288 with 1 Axes>"
      ]
     },
     "metadata": {
      "needs_background": "light"
     },
     "output_type": "display_data"
    }
   ],
   "source": [
    "# visualize predicted time vs. actual time (constructed to be strongest relationship)\n",
    "x = df['user_time_est']\n",
    "y = df['actual_time']\n",
    "colors = ['blue']*len(df)\n",
    "plt.scatter(x,y, c=colors, alpha=0.1)\n",
    "plt.show()"
   ]
  },
  {
   "cell_type": "markdown",
   "metadata": {},
   "source": [
    "## (3) Stan Modeling"
   ]
  },
  {
   "cell_type": "code",
   "execution_count": 17,
   "metadata": {},
   "outputs": [],
   "source": [
    "model= \"\"\"\n",
    "data {\n",
    "    int<lower=0> J;\n",
    "    int<lower=0> N;\n",
    "    int<lower=0> K;\n",
    "    int<lower=0, upper=J> students[N];\n",
    "    matrix[N,K] X;\n",
    "    vector[N] y;\n",
    "}\n",
    "parameters {\n",
    "    vector[J] groupPred;\n",
    "    vector[K] beta;\n",
    "    real mu_a;\n",
    "    real<lower=0> sigma_a;\n",
    "    real<lower=0> sigma_y;\n",
    "}\n",
    "model {\n",
    "    mu_a ~ normal(0, 15);\n",
    "    groupPred ~ normal(mu_a, sigma_a);\n",
    "    y ~ normal(X*beta + groupPred[students], sigma_y);\n",
    "}\n",
    "\"\"\""
   ]
  },
  {
   "cell_type": "code",
   "execution_count": 18,
   "metadata": {},
   "outputs": [],
   "source": [
    "# split data into testing and training set\n",
    "train = df.sample(frac=0.8, random_state=1997)\n",
    "test = df.drop(train.index)"
   ]
  },
  {
   "cell_type": "code",
   "execution_count": 19,
   "metadata": {},
   "outputs": [],
   "source": [
    "# create stud dictionary, which keeps track of which rows belong to which student for train\n",
    "studentNames_train = train.first_name.unique()\n",
    "student_lookup_train = dict(zip(studentNames_train, range(len(train))))\n",
    "stud_train = train.first_name.replace(student_lookup_train).values"
   ]
  },
  {
   "cell_type": "code",
   "execution_count": 20,
   "metadata": {},
   "outputs": [],
   "source": [
    "# create stud dictionary, which keeps track of which rows belong to which student for test\n",
    "studentNames_test = test.first_name.unique()\n",
    "student_lookup_test = dict(zip(studentNames_test, range(len(test))))\n",
    "stud_test = test.first_name.replace(student_lookup_test).values"
   ]
  },
  {
   "cell_type": "code",
   "execution_count": 21,
   "metadata": {},
   "outputs": [],
   "source": [
    "# drop data that won't be used to model actual time (train)\n",
    "train2 = train.drop('first_name', axis=1).drop('last_name', axis=1)\n",
    "response_train = train['actual_time']\n",
    "train2 = train2.drop('actual_time', axis=1)"
   ]
  },
  {
   "cell_type": "code",
   "execution_count": 22,
   "metadata": {},
   "outputs": [],
   "source": [
    "# drop data that won't be used to model actual time (test)\n",
    "test2 = test.drop('first_name', axis=1).drop('last_name', axis=1)\n",
    "response_test = test['actual_time']\n",
    "test2 = test2.drop('actual_time', axis=1)"
   ]
  },
  {
   "cell_type": "code",
   "execution_count": 23,
   "metadata": {},
   "outputs": [
    {
     "name": "stderr",
     "output_type": "stream",
     "text": [
      "/Users/colepolychronis/anaconda/lib/python2.7/site-packages/ipykernel_launcher.py:2: FutureWarning: Method .as_matrix will be removed in a future version. Use .values instead.\n",
      "  \n"
     ]
    }
   ],
   "source": [
    "# create data matrix and response variable for training data\n",
    "train2_mat = pd.DataFrame.as_matrix(train2)\n",
    "response_train = list(response_train)"
   ]
  },
  {
   "cell_type": "code",
   "execution_count": 24,
   "metadata": {},
   "outputs": [],
   "source": [
    "data = {\n",
    "    'J': len(studentNames_train),\n",
    "    'N': len(train2),\n",
    "    'K':len(train2.columns),\n",
    "    'students': stud_train+1,\n",
    "    'X': train2_mat,\n",
    "    'y': response_train\n",
    "}"
   ]
  },
  {
   "cell_type": "code",
   "execution_count": 25,
   "metadata": {},
   "outputs": [
    {
     "name": "stderr",
     "output_type": "stream",
     "text": [
      "INFO:pystan:COMPILING THE C++ CODE FOR MODEL anon_model_ba2bb022771246da8b271d047e56c48b NOW.\n"
     ]
    }
   ],
   "source": [
    "# Compile the model\n",
    "sm = pystan.StanModel(model_code=model)"
   ]
  },
  {
   "cell_type": "code",
   "execution_count": 26,
   "metadata": {},
   "outputs": [
    {
     "name": "stderr",
     "output_type": "stream",
     "text": [
      "WARNING:pystan:Rhat above 1.1 or below 0.9 indicates that the chains very likely have not mixed\n",
      "WARNING:pystan:1719 of 1800 iterations saturated the maximum tree depth of 10 (95 %)\n",
      "WARNING:pystan:Run again with max_treedepth larger than 10 to avoid saturation\n"
     ]
    }
   ],
   "source": [
    "# Train the model and generate samples\n",
    "fit = sm.sampling(data=data, iter=1000, chains=2, warmup=100, seed=101)"
   ]
  },
  {
   "cell_type": "code",
   "execution_count": 27,
   "metadata": {},
   "outputs": [
    {
     "name": "stdout",
     "output_type": "stream",
     "text": [
      "Inference for Stan model: anon_model_ba2bb022771246da8b271d047e56c48b.\n",
      "2 chains, each with iter=1000; warmup=100; thin=1; \n",
      "post-warmup draws per chain=900, total post-warmup draws=1800.\n",
      "\n",
      "                mean se_mean     sd   2.5%    25%    50%    75%  97.5%  n_eff   Rhat\n",
      "groupPred[1]    5.94    1.64   2.37    1.1   4.58   6.16   7.61  10.13    2.0    1.6\n",
      "groupPred[2]    6.28    1.65   2.41   1.44   4.83   6.44   8.02  10.51    2.0   1.59\n",
      "groupPred[3]     6.0    1.65   2.38    1.0   4.67   6.23   7.63  10.11    2.0    1.6\n",
      "groupPred[4]    5.62    1.61   2.34   0.75   4.27   5.92   7.17   9.74    2.0   1.59\n",
      "groupPred[5]    5.89    1.62   2.35   1.05   4.59    6.1   7.51  10.02    2.0   1.61\n",
      "groupPred[6]    6.08    1.64   2.37   1.21   4.68   6.31   7.72  10.14    2.0    1.6\n",
      "groupPred[7]     6.1    1.63   2.39   1.16   4.74   6.33   7.72  10.35    2.0   1.59\n",
      "groupPred[8]    6.25    1.64   2.39   1.35   4.85   6.47   7.89  10.29    2.0   1.59\n",
      "groupPred[9]    6.08    1.64   2.39   1.15   4.68   6.29   7.71  10.29    2.0   1.59\n",
      "groupPred[10]   5.91    1.64   2.36   0.93   4.54   6.17   7.46  10.08    2.0   1.61\n",
      "groupPred[11]   5.68    1.63   2.35   0.86   4.38   5.99   7.23   9.69    2.0    1.6\n",
      "groupPred[12]   5.48    1.62   2.34   0.68   4.13   5.82   7.09   9.62    2.0    1.6\n",
      "groupPred[13]   6.17    1.65   2.39   1.27   4.78   6.37    7.8   10.4    2.0   1.59\n",
      "groupPred[14]    5.8    1.62   2.35   0.96    4.4   6.08   7.39   9.93    2.0    1.6\n",
      "groupPred[15]   5.92    1.63   2.36   1.03   4.56   6.13   7.54  10.12    2.0    1.6\n",
      "groupPred[16]    5.8    1.65   2.37   0.94    4.5   6.06   7.39   9.93    2.0   1.61\n",
      "groupPred[17]    6.0    1.64   2.38   1.13   4.67   6.23   7.61  10.18    2.0    1.6\n",
      "groupPred[18]    6.2    1.64   2.39   1.25   4.82   6.39   7.84  10.34    2.0   1.59\n",
      "groupPred[19]   5.45    1.62   2.36    0.6    4.1    5.8   7.04   9.64    2.0   1.58\n",
      "groupPred[20]   6.31    1.65   2.41   1.34   4.91   6.43   8.03   10.5    2.0   1.58\n",
      "beta[1]         1.04  3.6e-4 7.4e-3   1.03   1.04   1.04   1.05   1.06  415.0    1.0\n",
      "beta[2]         3.49    1.65   5.98  -7.77   -0.8   2.96   7.96   14.5   13.0   1.05\n",
      "beta[3]       -13.78    1.65   5.95 -25.03 -17.99 -14.25  -9.33  -2.75   13.0   1.05\n",
      "beta[4]        16.63    1.64   5.93   5.33  12.41   16.2  21.23  27.69   13.0   1.05\n",
      "beta[5]         7.41    1.64   5.93  -3.78   3.09   6.85  11.92  18.34   13.0   1.05\n",
      "beta[6]       -19.65    1.64   5.93 -30.98 -23.84 -20.08 -15.14  -8.62   13.0   1.05\n",
      "beta[7]        24.94    4.04    8.0   4.93  22.24   27.9  30.48  33.58    4.0   2.07\n",
      "beta[8]        -5.86     4.0   7.91 -25.89  -8.14  -2.59  -0.48   2.03    4.0   2.08\n",
      "beta[9]         -9.8    4.02   8.11 -30.34  -12.2  -6.79  -4.47   -0.8    4.0   1.96\n",
      "beta[10]        3.82    3.98   7.94 -16.19   1.52   6.94   9.18  12.11    4.0   2.05\n",
      "beta[11]        7.44    4.03   7.96 -12.68   5.28  10.51  12.86  15.76    4.0   2.07\n",
      "beta[12]       14.99    4.09   8.15  -5.86  12.73  17.93  20.49  24.13    4.0   2.01\n",
      "beta[13]      -11.42     4.0   7.94 -31.53 -13.51  -8.17   -6.1  -3.34    4.0   2.06\n",
      "beta[14]       12.55    3.96   7.89  -7.13   10.2  15.45  18.03  21.22    4.0   2.01\n",
      "beta[15]       20.58     4.0   8.01   0.75  17.44  23.55  26.14  29.69    4.0   2.01\n",
      "beta[16]       -3.49    4.01   8.06  -23.9  -6.09  -0.47   1.89   5.58    4.0   1.95\n",
      "beta[17]       -3.24    4.03    8.0 -23.06  -5.61  -0.22   2.31   5.17    4.0   2.05\n",
      "beta[18]       -7.71    2.36   6.64 -18.99 -12.41  -8.56  -2.94    7.6    8.0   1.37\n",
      "beta[19]       -2.65    2.38   6.66 -13.99  -7.46  -3.58   2.24  12.94    8.0   1.38\n",
      "beta[20]        2.28    2.36   6.63  -9.03  -2.49    1.4   7.06  17.61    8.0   1.38\n",
      "beta[21]        9.11    2.37   6.65  -2.26   4.31   8.23  14.01  24.33    8.0   1.37\n",
      "beta[22]       46.56    2.37   6.67  35.08  41.81  45.69  51.28  61.86    8.0   1.37\n",
      "beta[23]       18.05    4.06   8.54   2.45  13.27  17.73  21.47   36.1    4.0   1.86\n",
      "beta[24]        8.81    4.06   8.52  -6.61    4.0   8.57  12.29  26.76    4.0   1.86\n",
      "beta[25]        5.87    4.06   8.52   -9.6    1.1   5.61   9.26  23.69    4.0   1.86\n",
      "beta[26]        2.84    4.06   8.52 -12.69  -1.93   2.61   6.25  20.82    4.0   1.87\n",
      "beta[27]      -21.64    4.06   8.53  -37.1 -26.42 -21.86 -18.24  -3.51    4.0   1.86\n",
      "mu_a            5.95    1.63   2.33    1.2   4.62   6.22   7.59   9.95    2.0   1.64\n",
      "sigma_a         0.51    0.03    0.3   0.08   0.27   0.47    0.7   1.17   94.0   1.01\n",
      "sigma_y        10.32  3.5e-3   0.14  10.05  10.23  10.31  10.42  10.62 1627.0    1.0\n",
      "lp__           -7129     1.5  12.46  -7148  -7138  -7132  -7123  -7100   69.0   1.01\n",
      "\n",
      "Samples were drawn using NUTS at Sun Mar 31 13:17:38 2019.\n",
      "For each parameter, n_eff is a crude measure of effective sample size,\n",
      "and Rhat is the potential scale reduction factor on split chains (at \n",
      "convergence, Rhat=1).\n"
     ]
    }
   ],
   "source": [
    "print(fit)"
   ]
  },
  {
   "cell_type": "code",
   "execution_count": 28,
   "metadata": {},
   "outputs": [],
   "source": [
    "# extract group predictors and model parameters\n",
    "params = []\n",
    "for row in fit.get_posterior_mean():\n",
    "    params.append(sum(row)/len(row))\n",
    "group_predictor = params[:20]\n",
    "params = params[20:-4]"
   ]
  },
  {
   "cell_type": "code",
   "execution_count": 29,
   "metadata": {},
   "outputs": [],
   "source": [
    "# calculate train MSE\n",
    "MSE = 0\n",
    "for row, y, pred_level in zip(train2_mat, response_train, stud_train):\n",
    "    yhat = 0\n",
    "    for ind, cell in enumerate(row):\n",
    "        yhat += row[ind]*params[ind]\n",
    "    yhat += group_predictor[pred_level]\n",
    "    MSE += math.pow(yhat-y, 2)\n",
    "MSE = math.sqrt(MSE/len(train2_mat))"
   ]
  },
  {
   "cell_type": "markdown",
   "metadata": {},
   "source": [
    "### Training RMSE"
   ]
  },
  {
   "cell_type": "code",
   "execution_count": 30,
   "metadata": {},
   "outputs": [
    {
     "data": {
      "text/plain": [
       "10.25933219979613"
      ]
     },
     "execution_count": 30,
     "metadata": {},
     "output_type": "execute_result"
    }
   ],
   "source": [
    "MSE"
   ]
  },
  {
   "cell_type": "code",
   "execution_count": 31,
   "metadata": {},
   "outputs": [
    {
     "name": "stderr",
     "output_type": "stream",
     "text": [
      "/Users/colepolychronis/anaconda/lib/python2.7/site-packages/ipykernel_launcher.py:2: FutureWarning: Method .as_matrix will be removed in a future version. Use .values instead.\n",
      "  \n"
     ]
    }
   ],
   "source": [
    "# create data matrix and response variable for training data\n",
    "test2_mat = pd.DataFrame.as_matrix(test2)\n",
    "response_test = list(response_test)"
   ]
  },
  {
   "cell_type": "code",
   "execution_count": 32,
   "metadata": {},
   "outputs": [],
   "source": [
    "# calculate test MSE\n",
    "testMSE = 0\n",
    "for row, y, pred_level in zip(test2_mat, response_test, stud_test):\n",
    "    yhat = 0\n",
    "    for ind, cell in enumerate(row):\n",
    "        yhat += row[ind]*params[ind]\n",
    "    yhat += group_predictor[pred_level]\n",
    "    testMSE += math.pow(yhat-y, 2)\n",
    "testMSE = math.sqrt(testMSE/len(train2_mat))"
   ]
  },
  {
   "cell_type": "markdown",
   "metadata": {},
   "source": [
    "### Testing MSE"
   ]
  },
  {
   "cell_type": "code",
   "execution_count": 33,
   "metadata": {},
   "outputs": [
    {
     "data": {
      "text/plain": [
       "5.33397647298352"
      ]
     },
     "execution_count": 33,
     "metadata": {},
     "output_type": "execute_result"
    }
   ],
   "source": [
    "testMSE"
   ]
  },
  {
   "cell_type": "markdown",
   "metadata": {},
   "source": [
    "## Create Model params to be Passed to Python"
   ]
  },
  {
   "cell_type": "code",
   "execution_count": 52,
   "metadata": {},
   "outputs": [],
   "source": [
    "# extract parameter estimated from fit\n",
    "params = []\n",
    "for row in fit.get_posterior_mean():\n",
    "    params.append(sum(row)/len(row))\n",
    "params = params[20:-4]"
   ]
  },
  {
   "cell_type": "code",
   "execution_count": 53,
   "metadata": {},
   "outputs": [
    {
     "data": {
      "text/plain": [
       "[1.0407846429649097,\n",
       " 3.4917130235780287,\n",
       " -13.781121848998678,\n",
       " 16.634073266654735,\n",
       " 7.410929806289198,\n",
       " -19.650988233711956,\n",
       " 24.944355390940082,\n",
       " -5.86001970692884,\n",
       " -9.798188701705808,\n",
       " 3.819233089960673,\n",
       " 7.4387181172579595,\n",
       " 14.986051332802461,\n",
       " -11.418482602382063,\n",
       " 12.54832543908372,\n",
       " 20.578251151878703,\n",
       " -3.491509295559495,\n",
       " -3.2448264758081335,\n",
       " -7.712202719773648,\n",
       " -2.6531629274854582,\n",
       " 2.283180225037981,\n",
       " 9.108415699463475,\n",
       " 46.55812703480338,\n",
       " 18.05456767423082,\n",
       " 8.809491265510083,\n",
       " 5.869487463999799,\n",
       " 2.8398695747062495,\n",
       " -21.636031508872136]"
      ]
     },
     "execution_count": 53,
     "metadata": {},
     "output_type": "execute_result"
    }
   ],
   "source": [
    "params"
   ]
  },
  {
   "cell_type": "code",
   "execution_count": 57,
   "metadata": {},
   "outputs": [],
   "source": [
    "# create a dictionary with parameter name and estimate - which we convert to JSON\n",
    "edu_params_estimate = {}\n",
    "for index, param in enumerate(df.drop('actual_time', axis=1).columns[2:]):\n",
    "    edu_params_estimate[param]= params[index]"
   ]
  },
  {
   "cell_type": "code",
   "execution_count": 63,
   "metadata": {},
   "outputs": [],
   "source": [
    "# add group predictors to dictionary\n",
    "groupPreds = []\n",
    "for row in fit.get_posterior_mean():\n",
    "    groupPreds.append(sum(row)/len(row))\n",
    "groupPreds = groupPreds[:20]\n",
    "\n",
    "for index, pred in enumerate(groupPreds):\n",
    "    edu_params_estimate['groupPred_' + str(index)] = pred"
   ]
  },
  {
   "cell_type": "code",
   "execution_count": 64,
   "metadata": {},
   "outputs": [
    {
     "data": {
      "text/plain": [
       "{'assign_type_Essay': 24.944355390940082,\n",
       " 'assign_type_Homework': -5.86001970692884,\n",
       " 'assign_type_Interview': -9.798188701705808,\n",
       " 'assign_type_Lab': 3.819233089960673,\n",
       " 'assign_type_Online_Activity': 7.4387181172579595,\n",
       " 'assign_type_Presentation': 14.986051332802461,\n",
       " 'assign_type_Reading': -11.418482602382063,\n",
       " 'assign_type_Study_Guide': 12.54832543908372,\n",
       " 'assign_type_Takehome_Test': 20.578251151878703,\n",
       " 'assign_type_Translation Activity': -3.491509295559495,\n",
       " 'assign_type_Writing_Prompt': -3.2448264758081335,\n",
       " 'class_type_Foreign_Language': 3.4917130235780287,\n",
       " 'class_type_Language_&_Literature': -13.781121848998678,\n",
       " 'class_type_Mathematics': 16.634073266654735,\n",
       " 'class_type_Science': 7.410929806289198,\n",
       " 'class_type_Social_Studies': -19.650988233711956,\n",
       " 'confidence_1': 18.05456767423082,\n",
       " 'confidence_2': 8.809491265510083,\n",
       " 'confidence_3': 5.869487463999799,\n",
       " 'confidence_4': 2.8398695747062495,\n",
       " 'confidence_5': -21.636031508872136,\n",
       " 'groupPred_0': 5.944613943181594,\n",
       " 'groupPred_1': 6.283586228511229,\n",
       " 'groupPred_10': 5.6834946866301195,\n",
       " 'groupPred_11': 5.479653626771874,\n",
       " 'groupPred_12': 6.16993002144932,\n",
       " 'groupPred_13': 5.803972085785803,\n",
       " 'groupPred_14': 5.921096671515502,\n",
       " 'groupPred_15': 5.798707546261595,\n",
       " 'groupPred_16': 5.999105243413174,\n",
       " 'groupPred_17': 6.200282050413577,\n",
       " 'groupPred_18': 5.452877400912951,\n",
       " 'groupPred_19': 6.305414424032155,\n",
       " 'groupPred_2': 6.0022462618080965,\n",
       " 'groupPred_3': 5.6178020647182105,\n",
       " 'groupPred_4': 5.894247354685299,\n",
       " 'groupPred_5': 6.078866520875717,\n",
       " 'groupPred_6': 6.095080190399061,\n",
       " 'groupPred_7': 6.2451959709518565,\n",
       " 'groupPred_8': 6.075896572084945,\n",
       " 'groupPred_9': 5.909465289166985,\n",
       " 'hard_easy_1': -7.712202719773648,\n",
       " 'hard_easy_2': -2.6531629274854582,\n",
       " 'hard_easy_3': 2.283180225037981,\n",
       " 'hard_easy_4': 9.108415699463475,\n",
       " 'hard_easy_5': 46.55812703480338,\n",
       " 'user_time_est': 1.0407846429649097}"
      ]
     },
     "execution_count": 64,
     "metadata": {},
     "output_type": "execute_result"
    }
   ],
   "source": [
    "edu_params_estimate"
   ]
  },
  {
   "cell_type": "code",
   "execution_count": 66,
   "metadata": {},
   "outputs": [],
   "source": [
    "with open('model_params.json', 'wb') as js:\n",
    "    json.dump(edu_params_estimate, js)"
   ]
  },
  {
   "cell_type": "code",
   "execution_count": null,
   "metadata": {},
   "outputs": [],
   "source": []
  }
 ],
 "metadata": {
  "kernelspec": {
   "display_name": "Python 2",
   "language": "python",
   "name": "python2"
  },
  "language_info": {
   "codemirror_mode": {
    "name": "ipython",
    "version": 2
   },
   "file_extension": ".py",
   "mimetype": "text/x-python",
   "name": "python",
   "nbconvert_exporter": "python",
   "pygments_lexer": "ipython2",
   "version": "2.7.15"
  }
 },
 "nbformat": 4,
 "nbformat_minor": 2
}
